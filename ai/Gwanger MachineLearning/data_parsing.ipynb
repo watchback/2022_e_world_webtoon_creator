{
 "cells": [
  {
   "cell_type": "code",
   "execution_count": 1,
   "id": "c9b89d34",
   "metadata": {},
   "outputs": [],
   "source": [
    "import pandas as pd\n",
    "import matplotlib.pyplot as plt\n",
    "import sys\n",
    "assert sys.version_info >= (3, 5)\n",
    "import sklearn\n",
    "assert sklearn.__version__ >= \"0.20\"\n",
    "import numpy as np\n",
    "import seaborn as sns\n",
    "from sklearn.model_selection import StratifiedShuffleSplit\n",
    "import warnings\n",
    "warnings.filterwarnings(action='ignore')\n",
    "plt.rcParams['font.family'] = 'AppleGothic' # For Mac\n"
   ]
  },
  {
   "cell_type": "code",
   "execution_count": 27,
   "id": "6476fe6a",
   "metadata": {},
   "outputs": [],
   "source": [
    "data = pd.read_csv(\"주성이형 데이터.csv\", encoding='cp949')"
   ]
  },
  {
   "cell_type": "code",
   "execution_count": 28,
   "id": "ad86df99",
   "metadata": {},
   "outputs": [
    {
     "data": {
      "text/plain": [
       "(890, 80)"
      ]
     },
     "execution_count": 28,
     "metadata": {},
     "output_type": "execute_result"
    }
   ],
   "source": [
    "data.shape"
   ]
  },
  {
   "cell_type": "code",
   "execution_count": 29,
   "id": "a0c108e4",
   "metadata": {},
   "outputs": [],
   "source": [
    "data = data.dropna(axis='columns')"
   ]
  },
  {
   "cell_type": "code",
   "execution_count": 30,
   "id": "98d85fb8",
   "metadata": {},
   "outputs": [
    {
     "data": {
      "text/plain": [
       "(890, 80)"
      ]
     },
     "execution_count": 30,
     "metadata": {},
     "output_type": "execute_result"
    }
   ],
   "source": [
    "data.shape"
   ]
  },
  {
   "cell_type": "code",
   "execution_count": 31,
   "id": "1508625e",
   "metadata": {},
   "outputs": [
    {
     "name": "stdout",
     "output_type": "stream",
     "text": [
      "결과                  1.000000\n",
      "Whkp2               0.517464\n",
      "Wlr1                0.443973\n",
      "Wsi2                0.410115\n",
      "Wlr2-1              0.404693\n",
      "                      ...   \n",
      "T P                -0.248606\n",
      "수온                 -0.281297\n",
      "ALP                -0.305617\n",
      "Condition factor   -0.308385\n",
      "Whkr4                    NaN\n",
      "Name: 결과, Length: 78, dtype: float64\n"
     ]
    }
   ],
   "source": [
    "corr_matrix=data.corr()\n",
    "print(corr_matrix[\"결과\"].sort_values(ascending=False))"
   ]
  },
  {
   "cell_type": "code",
   "execution_count": null,
   "id": "58dcc346",
   "metadata": {},
   "outputs": [],
   "source": []
  }
 ],
 "metadata": {
  "kernelspec": {
   "display_name": "Python 3 (ipykernel)",
   "language": "python",
   "name": "python3"
  },
  "language_info": {
   "codemirror_mode": {
    "name": "ipython",
    "version": 3
   },
   "file_extension": ".py",
   "mimetype": "text/x-python",
   "name": "python",
   "nbconvert_exporter": "python",
   "pygments_lexer": "ipython3",
   "version": "3.9.12"
  }
 },
 "nbformat": 4,
 "nbformat_minor": 5
}
