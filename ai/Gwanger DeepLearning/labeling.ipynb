{
  "nbformat": 4,
  "nbformat_minor": 0,
  "metadata": {
    "colab": {
      "provenance": [],
      "mount_file_id": "1ihP_t0jNAqkz5DGIM-UI2qX1vPOlywCU",
      "authorship_tag": "ABX9TyOQXi2nD585TDe0dDbY7LPO",
      "include_colab_link": true
    },
    "kernelspec": {
      "name": "python3",
      "display_name": "Python 3"
    },
    "language_info": {
      "name": "python"
    }
  },
  "cells": [
    {
      "cell_type": "markdown",
      "metadata": {
        "id": "view-in-github",
        "colab_type": "text"
      },
      "source": [
        "<a href=\"https://colab.research.google.com/github/watchback/CSB_hanjin/blob/main/ai/labeling.ipynb\" target=\"_parent\"><img src=\"https://colab.research.google.com/assets/colab-badge.svg\" alt=\"Open In Colab\"/></a>"
      ]
    },
    {
      "cell_type": "code",
      "execution_count": null,
      "metadata": {
        "id": "p9r0CRMTydYG"
      },
      "outputs": [],
      "source": [
        "import os\n",
        "import pandas as pd"
      ]
    },
    {
      "cell_type": "code",
      "source": [
        "file_path = '/content/drive/MyDrive/gwanger/train/normal'\n",
        "file_names = os.listdir(file_path)\n",
        "file_names"
      ],
      "metadata": {
        "colab": {
          "base_uri": "https://localhost:8080/"
        },
        "id": "hlxZDJ0E64-h",
        "outputId": "bd01cfbc-60d3-4212-a382-3dc37597201c"
      },
      "execution_count": null,
      "outputs": [
        {
          "output_type": "execute_result",
          "data": {
            "text/plain": [
              "['_normal_19.jpg',\n",
              " '_normal_34.jpg',\n",
              " '_normal_29.jpg',\n",
              " '_normal_17.jpg',\n",
              " '_normal_3.jpg',\n",
              " '_normal_10.jpg',\n",
              " '_normal_26.jpg',\n",
              " 'n1.jpg',\n",
              " '_normal_30.jpg',\n",
              " '_normal_31.jpg',\n",
              " '_normal_32.jpg',\n",
              " 'n3.jpg',\n",
              " '_normal_35.jpg',\n",
              " '_normal_36.jpg',\n",
              " '_normal_37.jpg',\n",
              " '_normal_40.jpg',\n",
              " '_normal_41.jpg',\n",
              " '_normal_42.jpg',\n",
              " 'n5.jpg',\n",
              " '_normal_44.jpg',\n",
              " '_normal_45.jpg',\n",
              " '_normal_1.jpg',\n",
              " '_normal_28.jpg',\n",
              " '_normal_18.jpg',\n",
              " '_normal_12.jpg',\n",
              " 'n4.jpg',\n",
              " '_normal_4.jpg',\n",
              " '_normal_43.jpg',\n",
              " '_normal_38.jpg',\n",
              " '_normal_6.jpg',\n",
              " 'n2.jpg',\n",
              " '_normal_16.jpg',\n",
              " '_normal_33.jpg',\n",
              " '_normal_8.jpg',\n",
              " '_normal_2.jpg',\n",
              " '_normal_9.jpg',\n",
              " '_normal_39.jpg',\n",
              " '_normal_7.jpg',\n",
              " '_normal_20.jpg',\n",
              " '_normal_27.jpg',\n",
              " '_normal_5.jpg',\n",
              " '_normal_11.jpg',\n",
              " '_normal_13.jpg',\n",
              " '_normal_15.jpg',\n",
              " '_normal_14.jpg']"
            ]
          },
          "metadata": {},
          "execution_count": 2
        }
      ]
    },
    {
      "cell_type": "code",
      "source": [
        "i = 1\n",
        "for name in file_names:\n",
        "    src = os.path.join(file_path, name)\n",
        "    dst = '_chogiwha_'+ str(i) + '.jpg'\n",
        "    dst = os.path.join(file_path, dst)\n",
        "    os.rename(src, dst)\n",
        "    i += 1"
      ],
      "metadata": {
        "id": "nCabKoA59N9i"
      },
      "execution_count": null,
      "outputs": []
    },
    {
      "cell_type": "code",
      "source": [
        "file_names = os.listdir(file_path)\n",
        "i = 1\n",
        "for name in file_names:\n",
        "    src = os.path.join(file_path, name)\n",
        "    dst = '_normal_'+ str(i) + '.jpg'\n",
        "    dst = os.path.join(file_path, dst)\n",
        "    os.rename(src, dst)\n",
        "    i += 1"
      ],
      "metadata": {
        "id": "IrFJWC7Z7EM7"
      },
      "execution_count": null,
      "outputs": []
    },
    {
      "cell_type": "code",
      "source": [
        "file_path = '/content/drive/MyDrive/gwanger/train/virus'\n",
        "file_names = os.listdir(file_path)\n",
        "file_names"
      ],
      "metadata": {
        "colab": {
          "base_uri": "https://localhost:8080/"
        },
        "id": "YsxZ-hbE9AkB",
        "outputId": "335726a4-2c63-4da4-c03c-5485fc60455f"
      },
      "execution_count": null,
      "outputs": [
        {
          "output_type": "execute_result",
          "data": {
            "text/plain": [
              "['_virus_31.jpg',\n",
              " '_virus_41.jpg',\n",
              " '_virus_51.jpg',\n",
              " '_virus_36.jpg',\n",
              " '_virus_46.jpg',\n",
              " '_virus_3.jpg',\n",
              " '_virus_4.jpg',\n",
              " '_virus_67.jpg',\n",
              " '_virus_68.jpg',\n",
              " 'v5.jpg',\n",
              " '_virus_1.jpg',\n",
              " '_virus_18.jpg',\n",
              " 'v3.jpg',\n",
              " '_virus_20.jpg',\n",
              " '_virus_69.jpg',\n",
              " '_virus_29.jpg',\n",
              " '_virus_60.jpg',\n",
              " '_virus_21.jpg',\n",
              " '_virus_54.jpg',\n",
              " '_virus_23.jpg',\n",
              " '_virus_5.jpg',\n",
              " '_virus_22.jpg',\n",
              " '_virus_64.jpg',\n",
              " '_virus_62.jpg',\n",
              " '_virus_26.jpg',\n",
              " '_virus_24.jpg',\n",
              " '_virus_6.jpg',\n",
              " '_virus_38.jpg',\n",
              " '_virus_27.jpg',\n",
              " '_virus_63.jpg',\n",
              " '_virus_39.jpg',\n",
              " '_virus_59.jpg',\n",
              " '_virus_33.jpg',\n",
              " '_virus_28.jpg',\n",
              " '_virus_16.jpg',\n",
              " 'v4.jpg',\n",
              " '_virus_17.jpg',\n",
              " '_virus_34.jpg',\n",
              " '_virus_8.jpg',\n",
              " '_virus_49.jpg',\n",
              " '_virus_2.jpg',\n",
              " '_virus_65.jpg',\n",
              " '_virus_10.jpg',\n",
              " 'v1.jpg',\n",
              " '_virus_19.jpg',\n",
              " '_virus_52.jpg',\n",
              " '_virus_32.jpg',\n",
              " '_virus_42.jpg',\n",
              " '_virus_9.jpg',\n",
              " '_virus_56.jpg',\n",
              " '_virus_50.jpg',\n",
              " '_virus_43.jpg',\n",
              " '_virus_53.jpg',\n",
              " 'v2.jpg',\n",
              " '_virus_37.jpg',\n",
              " '_virus_44.jpg',\n",
              " '_virus_55.jpg',\n",
              " '_virus_7.jpg',\n",
              " '_virus_57.jpg',\n",
              " '_virus_47.jpg',\n",
              " '_virus_58.jpg',\n",
              " '_virus_48.jpg',\n",
              " '_virus_61.jpg',\n",
              " '_virus_66.jpg',\n",
              " '_virus_35.jpg',\n",
              " '_virus_40.jpg',\n",
              " '_virus_45.jpg',\n",
              " '_virus_25.jpg',\n",
              " '_virus_30.jpg']"
            ]
          },
          "metadata": {},
          "execution_count": 5
        }
      ]
    },
    {
      "cell_type": "code",
      "source": [
        "i = 1\n",
        "for name in file_names:\n",
        "    src = os.path.join(file_path, name)\n",
        "    dst = '_chogiwha_'+ str(i) + '.jpg'\n",
        "    dst = os.path.join(file_path, dst)\n",
        "    os.rename(src, dst)\n",
        "    i += 1"
      ],
      "metadata": {
        "id": "652Zpq-49DfS"
      },
      "execution_count": null,
      "outputs": []
    },
    {
      "cell_type": "code",
      "source": [
        "file_names = os.listdir(file_path)\n",
        "i = 1\n",
        "for name in file_names:\n",
        "    src = os.path.join(file_path, name)\n",
        "    dst = '_virus_'+ str(i) + '.jpg'\n",
        "    dst = os.path.join(file_path, dst)\n",
        "    os.rename(src, dst)\n",
        "    i += 1"
      ],
      "metadata": {
        "id": "MzSJlkiu9TSY"
      },
      "execution_count": null,
      "outputs": []
    },
    {
      "cell_type": "code",
      "source": [
        "os.chdir('/content/drive/MyDrive/gwanger/train/normal')\n",
        "print(os.getcwd())"
      ],
      "metadata": {
        "colab": {
          "base_uri": "https://localhost:8080/"
        },
        "id": "6hroLbrU9sc3",
        "outputId": "2ba3131d-46ab-4e07-f78b-61ea841a0c11"
      },
      "execution_count": null,
      "outputs": [
        {
          "output_type": "stream",
          "name": "stdout",
          "text": [
            "/content/drive/MyDrive/gwanger/train/normal\n"
          ]
        }
      ]
    },
    {
      "cell_type": "code",
      "source": [
        "l = ['image']\n",
        "for i in os.listdir():\n",
        "    l.append(i)\n",
        "print(l)"
      ],
      "metadata": {
        "colab": {
          "base_uri": "https://localhost:8080/"
        },
        "id": "mOBMyAt--Z9Y",
        "outputId": "0eff5c15-eac2-4296-cfcf-3ed3efa81571"
      },
      "execution_count": null,
      "outputs": [
        {
          "output_type": "stream",
          "name": "stdout",
          "text": [
            "['image', '_normal_19.jpg', '_normal_34.jpg', '_normal_29.jpg', '_normal_17.jpg', '_normal_3.jpg', '_normal_10.jpg', '_normal_26.jpg', '_normal_23.jpg', '_normal_30.jpg', '_normal_31.jpg', '_normal_32.jpg', '_normal_25.jpg', '_normal_35.jpg', '_normal_36.jpg', '_normal_37.jpg', '_normal_40.jpg', '_normal_41.jpg', '_normal_42.jpg', '_normal_22.jpg', '_normal_44.jpg', '_normal_45.jpg', '_normal_1.jpg', '_normal_28.jpg', '_normal_18.jpg', '_normal_12.jpg', '_normal_24.jpg', '_normal_4.jpg', '_normal_43.jpg', '_normal_38.jpg', '_normal_6.jpg', '_normal_21.jpg', '_normal_16.jpg', '_normal_33.jpg', '_normal_8.jpg', '_normal_2.jpg', '_normal_9.jpg', '_normal_39.jpg', '_normal_7.jpg', '_normal_20.jpg', '_normal_27.jpg', '_normal_5.jpg', '_normal_11.jpg', '_normal_13.jpg', '_normal_15.jpg', '_normal_14.jpg']\n"
          ]
        }
      ]
    },
    {
      "cell_type": "code",
      "source": [
        "ind = ['label']\n",
        "for i in range(len(l)-1):\n",
        "    ind.append('normal')"
      ],
      "metadata": {
        "id": "3-gGV9u_-hYa"
      },
      "execution_count": null,
      "outputs": []
    },
    {
      "cell_type": "code",
      "source": [
        "os.chdir('/content/drive/MyDrive/gwanger/train/virus')\n",
        "print(os.getcwd())"
      ],
      "metadata": {
        "colab": {
          "base_uri": "https://localhost:8080/"
        },
        "id": "pyVqXCLV-j06",
        "outputId": "c76e38d3-4c7a-45c7-8f55-d45e902807a1"
      },
      "execution_count": null,
      "outputs": [
        {
          "output_type": "stream",
          "name": "stdout",
          "text": [
            "/content/drive/MyDrive/gwanger/train/virus\n"
          ]
        }
      ]
    },
    {
      "cell_type": "code",
      "source": [
        "for i in os.listdir():\n",
        "    l.append(i)\n",
        "    ind.append('virus')"
      ],
      "metadata": {
        "id": "gh5F3cGz-nnv"
      },
      "execution_count": null,
      "outputs": []
    },
    {
      "cell_type": "code",
      "source": [
        "label = pd.Series(ind, index = pd.Index(l))\n",
        "print(label)"
      ],
      "metadata": {
        "colab": {
          "base_uri": "https://localhost:8080/"
        },
        "id": "7dd8mUWf-qsD",
        "outputId": "49a9fe2a-f7aa-40e0-a434-57e16ad03bb3"
      },
      "execution_count": null,
      "outputs": [
        {
          "output_type": "stream",
          "name": "stdout",
          "text": [
            "image              label\n",
            "_normal_19.jpg    normal\n",
            "_normal_34.jpg    normal\n",
            "_normal_29.jpg    normal\n",
            "_normal_17.jpg    normal\n",
            "                   ...  \n",
            "_virus_35.jpg      virus\n",
            "_virus_40.jpg      virus\n",
            "_virus_45.jpg      virus\n",
            "_virus_25.jpg      virus\n",
            "_virus_30.jpg      virus\n",
            "Length: 115, dtype: object\n"
          ]
        }
      ]
    },
    {
      "cell_type": "code",
      "source": [
        "os.chdir('/content/drive/MyDrive/gwanger/')\n",
        "label.to_csv(\"train.csv\", mode='w',header=False)"
      ],
      "metadata": {
        "id": "O1xqRA3T-spp"
      },
      "execution_count": null,
      "outputs": []
    },
    {
      "cell_type": "code",
      "source": [],
      "metadata": {
        "id": "76m27RY9Bq-K"
      },
      "execution_count": null,
      "outputs": []
    }
  ]
}