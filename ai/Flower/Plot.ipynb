{
 "cells": [
  {
   "cell_type": "code",
   "execution_count": 1,
   "id": "4a3c9f4b",
   "metadata": {},
   "outputs": [],
   "source": [
    "import seaborn as sns\n",
    "import matplotlib.pyplot as plt\n",
    "import pandas as pd"
   ]
  },
  {
   "cell_type": "code",
   "execution_count": 18,
   "id": "d0db1076",
   "metadata": {},
   "outputs": [
    {
     "data": {
      "text/html": [
       "<div>\n",
       "<style scoped>\n",
       "    .dataframe tbody tr th:only-of-type {\n",
       "        vertical-align: middle;\n",
       "    }\n",
       "\n",
       "    .dataframe tbody tr th {\n",
       "        vertical-align: top;\n",
       "    }\n",
       "\n",
       "    .dataframe thead th {\n",
       "        text-align: right;\n",
       "    }\n",
       "</style>\n",
       "<table border=\"1\" class=\"dataframe\">\n",
       "  <thead>\n",
       "    <tr style=\"text-align: right;\">\n",
       "      <th></th>\n",
       "      <th>Accuracy</th>\n",
       "      <th>Sensitivity</th>\n",
       "      <th>Specificity</th>\n",
       "      <th>Precision</th>\n",
       "      <th>F1</th>\n",
       "    </tr>\n",
       "    <tr>\n",
       "      <th>Iteration</th>\n",
       "      <th></th>\n",
       "      <th></th>\n",
       "      <th></th>\n",
       "      <th></th>\n",
       "      <th></th>\n",
       "    </tr>\n",
       "  </thead>\n",
       "  <tbody>\n",
       "    <tr>\n",
       "      <th>1</th>\n",
       "      <td>0.8</td>\n",
       "      <td>0.8</td>\n",
       "      <td>0.8</td>\n",
       "      <td>0.800000</td>\n",
       "      <td>0.800000</td>\n",
       "    </tr>\n",
       "    <tr>\n",
       "      <th>2</th>\n",
       "      <td>0.8</td>\n",
       "      <td>1.0</td>\n",
       "      <td>0.6</td>\n",
       "      <td>0.714286</td>\n",
       "      <td>0.833333</td>\n",
       "    </tr>\n",
       "    <tr>\n",
       "      <th>3</th>\n",
       "      <td>0.9</td>\n",
       "      <td>0.8</td>\n",
       "      <td>1.0</td>\n",
       "      <td>1.000000</td>\n",
       "      <td>0.888889</td>\n",
       "    </tr>\n",
       "    <tr>\n",
       "      <th>4</th>\n",
       "      <td>0.9</td>\n",
       "      <td>1.0</td>\n",
       "      <td>0.8</td>\n",
       "      <td>0.833333</td>\n",
       "      <td>0.909091</td>\n",
       "    </tr>\n",
       "    <tr>\n",
       "      <th>5</th>\n",
       "      <td>0.9</td>\n",
       "      <td>0.8</td>\n",
       "      <td>1.0</td>\n",
       "      <td>1.000000</td>\n",
       "      <td>0.888889</td>\n",
       "    </tr>\n",
       "    <tr>\n",
       "      <th>6</th>\n",
       "      <td>0.6</td>\n",
       "      <td>0.4</td>\n",
       "      <td>0.8</td>\n",
       "      <td>0.666667</td>\n",
       "      <td>0.500000</td>\n",
       "    </tr>\n",
       "    <tr>\n",
       "      <th>7</th>\n",
       "      <td>0.9</td>\n",
       "      <td>1.0</td>\n",
       "      <td>0.8</td>\n",
       "      <td>0.833333</td>\n",
       "      <td>0.909091</td>\n",
       "    </tr>\n",
       "    <tr>\n",
       "      <th>8</th>\n",
       "      <td>1.0</td>\n",
       "      <td>1.0</td>\n",
       "      <td>1.0</td>\n",
       "      <td>1.000000</td>\n",
       "      <td>1.000000</td>\n",
       "    </tr>\n",
       "    <tr>\n",
       "      <th>9</th>\n",
       "      <td>0.8</td>\n",
       "      <td>0.8</td>\n",
       "      <td>0.8</td>\n",
       "      <td>0.800000</td>\n",
       "      <td>0.800000</td>\n",
       "    </tr>\n",
       "    <tr>\n",
       "      <th>10</th>\n",
       "      <td>0.8</td>\n",
       "      <td>1.0</td>\n",
       "      <td>0.6</td>\n",
       "      <td>0.714286</td>\n",
       "      <td>0.833333</td>\n",
       "    </tr>\n",
       "  </tbody>\n",
       "</table>\n",
       "</div>"
      ],
      "text/plain": [
       "           Accuracy  Sensitivity  Specificity  Precision        F1\n",
       "Iteration                                                         \n",
       "1               0.8          0.8          0.8   0.800000  0.800000\n",
       "2               0.8          1.0          0.6   0.714286  0.833333\n",
       "3               0.9          0.8          1.0   1.000000  0.888889\n",
       "4               0.9          1.0          0.8   0.833333  0.909091\n",
       "5               0.9          0.8          1.0   1.000000  0.888889\n",
       "6               0.6          0.4          0.8   0.666667  0.500000\n",
       "7               0.9          1.0          0.8   0.833333  0.909091\n",
       "8               1.0          1.0          1.0   1.000000  1.000000\n",
       "9               0.8          0.8          0.8   0.800000  0.800000\n",
       "10              0.8          1.0          0.6   0.714286  0.833333"
      ]
     },
     "execution_count": 18,
     "metadata": {},
     "output_type": "execute_result"
    }
   ],
   "source": [
    "acc = pd.read_csv(\"/Users/csb/Desktop/matrix.csv\",index_col=0)\n",
    "acc"
   ]
  },
  {
   "cell_type": "code",
   "execution_count": 36,
   "id": "cf1e22a0",
   "metadata": {},
   "outputs": [
    {
     "data": {
      "text/plain": [
       "[<matplotlib.axis.YTick at 0x7fe626a06400>,\n",
       " <matplotlib.axis.YTick at 0x7fe626a00e20>,\n",
       " <matplotlib.axis.YTick at 0x7fe625ee7fa0>,\n",
       " <matplotlib.axis.YTick at 0x7fe626b34670>,\n",
       " <matplotlib.axis.YTick at 0x7fe626b41880>,\n",
       " <matplotlib.axis.YTick at 0x7fe626b46370>,\n",
       " <matplotlib.axis.YTick at 0x7fe626b46e20>,\n",
       " <matplotlib.axis.YTick at 0x7fe626b4d910>,\n",
       " <matplotlib.axis.YTick at 0x7fe626b41430>,\n",
       " <matplotlib.axis.YTick at 0x7fe626a000a0>,\n",
       " <matplotlib.axis.YTick at 0x7fe626b566a0>]"
      ]
     },
     "execution_count": 36,
     "metadata": {},
     "output_type": "execute_result"
    },
    {
     "data": {
      "image/png": "[encoded data removed]",
      "text/plain": [
       "<Figure size 640x480 with 1 Axes>"
      ]
     },
     "metadata": {},
     "output_type": "display_data"
    }
   ],
   "source": [
    "p = sns.swarmplot(data=acc)\n",
    "p.set_ylim([0.0,1.05])\n",
    "p.grid(axis='y')\n",
    "p.set_yticks(ticks=[0.0, 0.1,0.2,0.3,0.4,0.5,0.6,0.7,0.8,0.9,1.0])"
   ]
  },
  {
   "cell_type": "code",
   "execution_count": null,
   "id": "7083a803",
   "metadata": {},
   "outputs": [],
   "source": [
    "import seaborn as sns\n",
    "ax = plt.subplots(figsize=(2, 4)) \n",
    "ax = sns.set_theme(style='whitegrid')\n",
    "ax = sns.stripplot(y=acc['Accuracy'],jitter=0.2,alpha=1, zorder=1, size=4) ## 수직 Strip Plot\n",
    "\n",
    "bx = plt.subplots(figsize=(2, 4)) \n",
    "bx = sns.set_theme(style='whitegrid')\n",
    "bx = sns.stripplot(y=acc['Sensitivity'],jitter=0.1,alpha=1, zorder=1, size=4,color='g') ## 수직 Strip Plot\n",
    "\n",
    "cx = plt.subplots(figsize=(2, 4)) \n",
    "cx = sns.set_theme(style='whitegrid')\n",
    "cx = sns.stripplot(y=acc['Specificity'],jitter=0.1,alpha=1, zorder=1, size=4,color='r') ## 수직 Strip Plot\n",
    "\n",
    "dx = plt.subplots(figsize=(2, 4)) \n",
    "dx = sns.set_theme(style='whitegrid')\n",
    "dx =sns.stripplot(y=acc['Precision'],jitter=0.1,alpha=1, zorder=1, size=4,color='orange') ## 수직 Strip Plot\n",
    "\n",
    "ex = plt.subplots(figsize=(2, 4)) \n",
    "ex = sns.set_theme(style='whitegrid')\n",
    "ex = sns.stripplot(y=acc['F1'],jitter=0.1,alpha=1, zorder=1, size=4,color='darkviolet') ## 수직 Strip Plot\n"
   ]
  }
 ],
 "metadata": {
  "kernelspec": {
   "display_name": "Python 3 (ipykernel)",
   "language": "python",
   "name": "python3"
  },
  "language_info": {
   "codemirror_mode": {
    "name": "ipython",
    "version": 3
   },
   "file_extension": ".py",
   "mimetype": "text/x-python",
   "name": "python",
   "nbconvert_exporter": "python",
   "pygments_lexer": "ipython3",
   "version": "3.8.15"
  }
 },
 "nbformat": 4,
 "nbformat_minor": 5
}
